{
 "cells": [
  {
   "cell_type": "code",
   "execution_count": 50,
   "metadata": {
    "collapsed": true
   },
   "outputs": [],
   "source": [
    "#First, work on interpreting the input\n",
    "\n",
    "with open('day8sample.txt', 'r') as f:\n",
    "    sample = [row.split() for row in f.read().splitlines()]"
   ]
  },
  {
   "cell_type": "code",
   "execution_count": 51,
   "metadata": {
    "collapsed": false
   },
   "outputs": [
    {
     "name": "stdout",
     "output_type": "stream",
     "text": [
      "[['b', 'inc', '5', 'if', 'a', '>', '1'], ['a', 'inc', '1', 'if', 'b', '<', '5'], ['c', 'dec', '-10', 'if', 'a', '>=', '1'], ['c', 'inc', '-20', 'if', 'c', '==', '10']]\n"
     ]
    }
   ],
   "source": [
    "print(sample)"
   ]
  },
  {
   "cell_type": "code",
   "execution_count": 52,
   "metadata": {
    "collapsed": false
   },
   "outputs": [
    {
     "name": "stdout",
     "output_type": "stream",
     "text": [
      "[['b', 5, 'a', '>', 1], ['a', 1, 'b', '<', 5], ['c', 10, 'a', '>=', 1], ['c', -20, 'c', '==', 10]]\n"
     ]
    }
   ],
   "source": [
    "for instruction in sample:\n",
    "    #turn the numbers into numbers\n",
    "    instruction[2] = int(instruction[2])\n",
    "    instruction[6] = int(instruction[6])\n",
    "    #turn dec into inc\n",
    "    if instruction[1] == \"dec\":\n",
    "        instruction[2] = -instruction[2]\n",
    "    #remove unneccessary data\n",
    "    del instruction[3]\n",
    "    del instruction[1]\n",
    "print(sample)"
   ]
  },
  {
   "cell_type": "code",
   "execution_count": 63,
   "metadata": {
    "collapsed": true
   },
   "outputs": [],
   "source": [
    "def updateRegisters(instructions):\n",
    "    highest = 0\n",
    "    \n",
    "    #This helps interpret the comparison operators\n",
    "    import operator\n",
    "    ops = { \"<\": operator.lt, \"<=\": operator.le, \"==\": operator.eq, \n",
    "           \"!=\": operator.ne, \">=\": operator.ge, \">\": operator.gt,}\n",
    "\n",
    "    #Build a dictionary\n",
    "    registers = {}\n",
    "    for instruction in instructions:\n",
    "        registers[instruction[0]]=0\n",
    "        registers[instruction[2]]=0\n",
    "    \n",
    "    #Execute the Instructions\n",
    "    for instruction in instructions:\n",
    "        #compare the registry value to the criteria, using the operator\n",
    "        if ops[instruction[3]](registers[instruction[2]], instruction[4]):\n",
    "            #update register\n",
    "            registers[instruction[0]] = registers[instruction[0]]+instruction[1]\n",
    "            if registers[instruction[0]] > highest:\n",
    "                highest = registers[instruction[0]]\n",
    "            \n",
    "    print(\"Current Max: \" + str(max(registers.values())))\n",
    "    print(\"Highest: \" + str(highest))\n",
    "    \n",
    "        \n",
    "    "
   ]
  },
  {
   "cell_type": "code",
   "execution_count": 61,
   "metadata": {
    "collapsed": false
   },
   "outputs": [
    {
     "name": "stdout",
     "output_type": "stream",
     "text": [
      "Current Max: 1\n",
      "Highest: 10\n"
     ]
    }
   ],
   "source": [
    "updateRegisters(sample)"
   ]
  },
  {
   "cell_type": "code",
   "execution_count": 64,
   "metadata": {
    "collapsed": true
   },
   "outputs": [],
   "source": [
    "with open('day8input.txt', 'r') as f:\n",
    "    Input = [row.split() for row in f.read().splitlines()]"
   ]
  },
  {
   "cell_type": "code",
   "execution_count": 65,
   "metadata": {
    "collapsed": true
   },
   "outputs": [],
   "source": [
    "for instruction in Input:\n",
    "    #turn the numbers into numbers\n",
    "    instruction[2] = int(instruction[2])\n",
    "    instruction[6] = int(instruction[6])\n",
    "    #turn dec into inc\n",
    "    if instruction[1] == \"dec\":\n",
    "        instruction[2] = -instruction[2]\n",
    "    #remove unneccessary data\n",
    "    del instruction[3]\n",
    "    del instruction[1]"
   ]
  },
  {
   "cell_type": "code",
   "execution_count": 66,
   "metadata": {
    "collapsed": false
   },
   "outputs": [
    {
     "name": "stdout",
     "output_type": "stream",
     "text": [
      "Current Max: 4416\n",
      "Highest: 5199\n"
     ]
    }
   ],
   "source": [
    "updateRegisters(Input)"
   ]
  },
  {
   "cell_type": "code",
   "execution_count": null,
   "metadata": {
    "collapsed": true
   },
   "outputs": [],
   "source": []
  }
 ],
 "metadata": {
  "kernelspec": {
   "display_name": "Python 3",
   "language": "python",
   "name": "python3"
  },
  "language_info": {
   "codemirror_mode": {
    "name": "ipython",
    "version": 3
   },
   "file_extension": ".py",
   "mimetype": "text/x-python",
   "name": "python",
   "nbconvert_exporter": "python",
   "pygments_lexer": "ipython3",
   "version": "3.6.0"
  }
 },
 "nbformat": 4,
 "nbformat_minor": 2
}
