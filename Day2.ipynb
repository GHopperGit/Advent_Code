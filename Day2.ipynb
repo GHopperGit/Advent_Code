{
 "cells": [
  {
   "cell_type": "code",
   "execution_count": 31,
   "metadata": {
    "collapsed": false
   },
   "outputs": [],
   "source": [
    "#Figure out how to convert\n",
    "#5 1 9 5\n",
    "#7 5 3\n",
    "#2 4 6 8\n",
    "#into\n",
    "\n",
    "row1 = [5, 9, 2, 8]\n",
    "row2 = [7, 6, 3]\n",
    "row3 = [2, 5, 7, 8]\n",
    "Sample = [row1, row2, row3]"
   ]
  },
  {
   "cell_type": "code",
   "execution_count": 22,
   "metadata": {
    "collapsed": true
   },
   "outputs": [],
   "source": [
    "def checksum(Matrix):\n",
    "    cksm = 0\n",
    "    for row in Matrix:\n",
    "        #Find Max\n",
    "        Max = max(row)\n",
    "        #Find Min\n",
    "        Min = min(row)\n",
    "        #Add difference to cksm\n",
    "        cksm = cksm + (Max - Min)\n",
    "    print(cksm)\n",
    "    "
   ]
  },
  {
   "cell_type": "code",
   "execution_count": 33,
   "metadata": {
    "collapsed": false
   },
   "outputs": [
    {
     "name": "stdout",
     "output_type": "stream",
     "text": [
      "17\n"
     ]
    }
   ],
   "source": [
    "checksum(Sample)"
   ]
  },
  {
   "cell_type": "code",
   "execution_count": 24,
   "metadata": {
    "collapsed": true
   },
   "outputs": [],
   "source": [
    "#Actually found part1 solution in Excel, using Text to columns and Min/Max functions."
   ]
  },
  {
   "cell_type": "code",
   "execution_count": 49,
   "metadata": {
    "collapsed": true
   },
   "outputs": [],
   "source": [
    "def divsum(Matrix):\n",
    "    dvsm = 0\n",
    "    \n",
    "    for row in Matrix:\n",
    "        #Loop through each number in the row (except the last one)\n",
    "        for index in range(len(row)-1):\n",
    "            #loop through each number that comes *after* that index in the row\n",
    "            for index2 in range(index + 1, len(row)):\n",
    "                #If either number evenly divides into the other, add the result to dvsm\n",
    "                if row[index] % row[index2] == 0:\n",
    "                    dvsm = dvsm + row[index]/row[index2]\n",
    "                    #print(row[index]/row[index2])\n",
    "                elif row[index2] % row[index] == 0:\n",
    "                    dvsm = dvsm + row[index2]/row[index]\n",
    "                    #print(row[index2]/row[index])\n",
    "\n",
    "    print(dvsm)"
   ]
  },
  {
   "cell_type": "code",
   "execution_count": 50,
   "metadata": {
    "collapsed": false
   },
   "outputs": [
    {
     "name": "stdout",
     "output_type": "stream",
     "text": [
      "10.0\n"
     ]
    }
   ],
   "source": [
    "divsum(Sample)"
   ]
  },
  {
   "cell_type": "code",
   "execution_count": 59,
   "metadata": {
    "collapsed": false
   },
   "outputs": [
    {
     "name": "stdout",
     "output_type": "stream",
     "text": [
      "[[3458, 3471, 163, 1299, 170, 4200, 2425, 167, 3636, 4001, 4162, 115, 2859, 130, 4075, 4269], [2777, 2712, 120, 2569, 2530, 3035, 1818, 32, 491, 872, 113, 92, 2526, 477, 138, 1360], [2316, 35, 168, 174, 1404, 1437, 2631, 1863, 1127, 640, 1745, 171, 2391, 2587, 214, 193], [197, 2013, 551, 1661, 121, 206, 203, 174, 2289, 843, 732, 2117, 360, 1193, 999, 2088], [3925, 3389, 218, 1134, 220, 171, 1972, 348, 3919, 3706, 494, 3577, 3320, 239, 120, 2508], [239, 947, 1029, 2024, 733, 242, 217, 1781, 2904, 2156, 1500, 3100, 497, 2498, 3312, 211], [188, 3806, 3901, 261, 235, 3733, 3747, 3721, 267, 3794, 3814, 3995, 3004, 915, 4062, 3400], [918, 63, 2854, 2799, 178, 176, 1037, 487, 206, 157, 2212, 2539, 2816, 2501, 927, 3147], [186, 194, 307, 672, 208, 351, 243, 180, 619, 749, 590, 745, 671, 707, 334, 224], [1854, 3180, 1345, 3421, 478, 214, 198, 194, 4942, 5564, 2469, 242, 5248, 5786, 5260, 4127], [3780, 2880, 236, 330, 3227, 1252, 3540, 218, 213, 458, 201, 408, 3240, 249, 1968, 2066], [1188, 696, 241, 57, 151, 609, 199, 765, 1078, 976, 1194, 177, 238, 658, 860, 1228], [903, 612, 188, 766, 196, 900, 62, 869, 892, 123, 226, 57, 940, 168, 165, 103], [710, 3784, 83, 2087, 2582, 3941, 97, 1412, 2859, 117, 3880, 411, 102, 3691, 4366, 4104], [3178, 219, 253, 1297, 3661, 1552, 8248, 678, 245, 7042, 260, 581, 7350, 431, 8281, 8117], [837, 80, 95, 281, 652, 822, 1028, 1295, 101, 1140, 88, 452, 85, 444, 649, 1247]]\n"
     ]
    }
   ],
   "source": [
    "#Create Input\n",
    "#Code from u/Sparrow_1029, comments mine\n",
    "\n",
    "#first paste the values into a text file\n",
    "\n",
    "#'with' and 'as' help with the opening and closing of the text file\n",
    "#'open([filename], 'r')' reads the text file\n",
    "#'f' is a nickname assigned to the file info, used in the next row\n",
    "with open('day2input.txt', 'r') as f:\n",
    "    #'f.read().splitlines()' separates each sublist within Input\n",
    "    #row.split separates the values in each line\n",
    "    Input = [row.split() for row in f.read().splitlines()]\n",
    "\n",
    "#Now turn the string values into integers    \n",
    "for index in range(len(Input)):\n",
    "    Input[index] = list(map(int, Input[index]))\n",
    "    \n",
    "print(Input)"
   ]
  },
  {
   "cell_type": "code",
   "execution_count": 60,
   "metadata": {
    "collapsed": false
   },
   "outputs": [
    {
     "name": "stdout",
     "output_type": "stream",
     "text": [
      "272.0\n"
     ]
    }
   ],
   "source": [
    "divsum(Input)"
   ]
  },
  {
   "cell_type": "code",
   "execution_count": null,
   "metadata": {
    "collapsed": true
   },
   "outputs": [],
   "source": []
  }
 ],
 "metadata": {
  "kernelspec": {
   "display_name": "Python 3",
   "language": "python",
   "name": "python3"
  },
  "language_info": {
   "codemirror_mode": {
    "name": "ipython",
    "version": 3
   },
   "file_extension": ".py",
   "mimetype": "text/x-python",
   "name": "python",
   "nbconvert_exporter": "python",
   "pygments_lexer": "ipython3",
   "version": "3.6.0"
  }
 },
 "nbformat": 4,
 "nbformat_minor": 2
}
