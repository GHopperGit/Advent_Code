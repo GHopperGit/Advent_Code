{
 "cells": [
  {
   "cell_type": "code",
   "execution_count": 13,
   "metadata": {
    "collapsed": false
   },
   "outputs": [],
   "source": [
    "#Part One\n",
    "\n",
    "def captcha(sequence):\n",
    "    #Turn the input into a list\n",
    "    sequence = [int(digit) for digit in str(sequence)]\n",
    "    \n",
    "    #Add the first element of the list to the end of the list\n",
    "    sequence.append(sequence[0])\n",
    "    \n",
    "    #This variable will turn into our answer!\n",
    "    Total = 0\n",
    "    \n",
    "    #Comares elements\n",
    "    #If there's a match, add the value to Total\n",
    "    for i in range(len(sequence) - 1):\n",
    "        if sequence[i] == sequence[i+1]:\n",
    "            Total = Total + sequence[i]\n",
    "    \n",
    "    #Show the answer!\n",
    "    print(Total)        \n",
    "            \n",
    "        "
   ]
  },
  {
   "cell_type": "code",
   "execution_count": 15,
   "metadata": {
    "collapsed": false
   },
   "outputs": [
    {
     "name": "stdout",
     "output_type": "stream",
     "text": [
      "9\n"
     ]
    }
   ],
   "source": [
    "captcha(91212129)"
   ]
  },
  {
   "cell_type": "code",
   "execution_count": 34,
   "metadata": {
    "collapsed": false
   },
   "outputs": [],
   "source": [
    "#Part Two!\n",
    "\n",
    "def captcha2(sequence):\n",
    "\n",
    "    sequence = [int(digit) for digit in str(sequence)]\n",
    "    \n",
    "    #Instead of adding the first element, add the entire list.\n",
    "    #We only need to add half of the list, but that would req a loop,\n",
    "    #and this makes the math later on easier.\n",
    "    sequence = sequence + sequence\n",
    "    \n",
    "    Total = 0\n",
    "    \n",
    "    #Calculate half the length of the *original* sequence\n",
    "    x = int(len(sequence)/4)\n",
    "\n",
    "    #Adjust the range to only include the *original* sequence\n",
    "    for i in range(int(len(sequence)/2)):\n",
    "        #Swap i+1 for i+x to compare to the halfway pt\n",
    "        if sequence[i] == sequence[i+x]:\n",
    "            Total = Total + sequence[i]\n",
    "    \n",
    "    print(Total)     "
   ]
  },
  {
   "cell_type": "code",
   "execution_count": 40,
   "metadata": {
    "collapsed": false
   },
   "outputs": [
    {
     "name": "stdout",
     "output_type": "stream",
     "text": [
      "4\n"
     ]
    }
   ],
   "source": [
    "captcha2(12131415)"
   ]
  },
  {
   "cell_type": "code",
   "execution_count": null,
   "metadata": {
    "collapsed": true
   },
   "outputs": [],
   "source": []
  }
 ],
 "metadata": {
  "kernelspec": {
   "display_name": "Python 3",
   "language": "python",
   "name": "python3"
  },
  "language_info": {
   "codemirror_mode": {
    "name": "ipython",
    "version": 3
   },
   "file_extension": ".py",
   "mimetype": "text/x-python",
   "name": "python",
   "nbconvert_exporter": "python",
   "pygments_lexer": "ipython3",
   "version": "3.6.0"
  }
 },
 "nbformat": 4,
 "nbformat_minor": 2
}
