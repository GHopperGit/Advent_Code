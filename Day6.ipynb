{
 "cells": [
  {
   "cell_type": "code",
   "execution_count": 43,
   "metadata": {
    "collapsed": false
   },
   "outputs": [],
   "source": [
    "sample = [0, 2, 7, 0]"
   ]
  },
  {
   "cell_type": "code",
   "execution_count": 44,
   "metadata": {
    "collapsed": false
   },
   "outputs": [],
   "source": [
    "#First, we build a funciton to redistribute blocks\n",
    "\n",
    "def redistribute(banklist):\n",
    "    banks = list(banklist)\n",
    "    blocks = max(banks)\n",
    "    \n",
    "    #Here we work backwards through the banks to find the highest bank\n",
    "    highest = 0\n",
    "    \n",
    "    #For our sample, start at 3, stop before -1, steps = -1\n",
    "    for index in range(len(banks)-1, -1, -1):\n",
    "        if banks[index] == max(banks):\n",
    "            highest = index\n",
    "            \n",
    "    #Now we empty that bank\n",
    "    banks[highest] = 0\n",
    "    \n",
    "    #And redistribute the blocks\n",
    "    position = highest + 1\n",
    "    for block in range(blocks):\n",
    "        #reset position at the end of the list\n",
    "        if position == len(banks):\n",
    "            position = 0\n",
    "        banks[position] = banks[position] + 1\n",
    "        position = position + 1\n",
    "    return(banks)\n",
    "    #print(banks)\n",
    "        "
   ]
  },
  {
   "cell_type": "code",
   "execution_count": 46,
   "metadata": {
    "collapsed": false
   },
   "outputs": [
    {
     "name": "stdout",
     "output_type": "stream",
     "text": [
      "[2, 4, 1, 2]\n"
     ]
    }
   ],
   "source": [
    "print(redistribute(sample))"
   ]
  },
  {
   "cell_type": "code",
   "execution_count": 67,
   "metadata": {
    "collapsed": false
   },
   "outputs": [],
   "source": [
    "#Then we count cycles checking for repitition\n",
    "def reallocation(Input):\n",
    "    cycles = 0\n",
    "    sequences = [Input]    \n",
    "    Banks = Input\n",
    "    for i in range(5000):\n",
    "        cycles = cycles+1\n",
    "        Banks = redistribute(Banks)\n",
    "        if Banks in sequences:\n",
    "            print(cycles)\n",
    "            break\n",
    "        elif i == 4999:\n",
    "            print(\"over 5000\")            \n",
    "        else:\n",
    "            sequences.append(Banks)\n",
    "\n",
    "\n",
    "        "
   ]
  },
  {
   "cell_type": "code",
   "execution_count": 68,
   "metadata": {
    "collapsed": false
   },
   "outputs": [
    {
     "name": "stdout",
     "output_type": "stream",
     "text": [
      "5\n"
     ]
    }
   ],
   "source": [
    "reallocation(sample)"
   ]
  },
  {
   "cell_type": "code",
   "execution_count": 69,
   "metadata": {
    "collapsed": false
   },
   "outputs": [
    {
     "name": "stdout",
     "output_type": "stream",
     "text": [
      "3156\n"
     ]
    }
   ],
   "source": [
    "reallocation([2, 8, 8, 5, 4, 2, 3, 1, 5, 5, 1, 2, 15, 13, 5, 14])"
   ]
  },
  {
   "cell_type": "code",
   "execution_count": 70,
   "metadata": {
    "collapsed": true
   },
   "outputs": [],
   "source": [
    "#Part 2\n",
    "\n",
    "def reallocation2(Input):\n",
    "    cycles = 0\n",
    "    repete = False\n",
    "    \n",
    "    sequences = [Input]    \n",
    "    Banks = Input\n",
    "    while repete == False:\n",
    "        cycles = cycles+1\n",
    "        Banks = redistribute(Banks)\n",
    "        if Banks in sequences:\n",
    "            repete = True                     \n",
    "        else:\n",
    "            sequences.append(Banks)\n",
    "    \n",
    "    repeted = Banks\n",
    "    loops = 0\n",
    "    secondTime = False\n",
    "    while secondTime == False:\n",
    "        loops = loops + 1\n",
    "        Banks = redistribute(Banks)\n",
    "        if Banks == repeted:\n",
    "            secondTime = True\n",
    "            print(loops)\n",
    "        "
   ]
  },
  {
   "cell_type": "code",
   "execution_count": 71,
   "metadata": {
    "collapsed": false
   },
   "outputs": [
    {
     "name": "stdout",
     "output_type": "stream",
     "text": [
      "1610\n"
     ]
    }
   ],
   "source": [
    "reallocation2([2, 8, 8, 5, 4, 2, 3, 1, 5, 5, 1, 2, 15, 13, 5, 14])"
   ]
  },
  {
   "cell_type": "code",
   "execution_count": null,
   "metadata": {
    "collapsed": true
   },
   "outputs": [],
   "source": []
  }
 ],
 "metadata": {
  "kernelspec": {
   "display_name": "Python 3",
   "language": "python",
   "name": "python3"
  },
  "language_info": {
   "codemirror_mode": {
    "name": "ipython",
    "version": 3
   },
   "file_extension": ".py",
   "mimetype": "text/x-python",
   "name": "python",
   "nbconvert_exporter": "python",
   "pygments_lexer": "ipython3",
   "version": "3.6.0"
  }
 },
 "nbformat": 4,
 "nbformat_minor": 2
}
