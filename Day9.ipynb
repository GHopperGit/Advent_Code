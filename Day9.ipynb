{
 "cells": [
  {
   "cell_type": "code",
   "execution_count": 41,
   "metadata": {
    "collapsed": true
   },
   "outputs": [],
   "source": [
    "sample = \"{{<!>},{<!>},{<!>},{<a>}}\"\n",
    "sample2 = \"{{<a>},{<a>},{<a>},{<a>}}\""
   ]
  },
  {
   "cell_type": "code",
   "execution_count": 42,
   "metadata": {
    "collapsed": true
   },
   "outputs": [],
   "source": [
    "#First, handle the exclamation points\n",
    "def exclaim(string):\n",
    "    while '!' in string:\n",
    "        location = string.find(\"!\")\n",
    "        string = string[:location] + string[location+2:]\n",
    "    #print(string)\n",
    "    return(string)"
   ]
  },
  {
   "cell_type": "code",
   "execution_count": 49,
   "metadata": {
    "collapsed": true
   },
   "outputs": [],
   "source": [
    "#Next, take out the garbage\n",
    "def clean(string):\n",
    "    size = 0\n",
    "    while '<' in string:\n",
    "        loc1 = string.find('<')\n",
    "        loc2 = string.find('>')\n",
    "        string = string[:loc1] + string[loc2+1:]\n",
    "        size += (loc2 - loc1)-1\n",
    "    print(\"chars removed: \" + str(size))\n",
    "    return(string)\n",
    "    "
   ]
  },
  {
   "cell_type": "code",
   "execution_count": 50,
   "metadata": {
    "collapsed": true
   },
   "outputs": [],
   "source": [
    "#Now,score the groups\n",
    "def score(string):\n",
    "    \n",
    "    multiplier = 1\n",
    "    totalScore = 0\n",
    "    previousOpen = False\n",
    "    previousClosed = False\n",
    "    \n",
    "    for char in string:\n",
    "        \n",
    "        if char == '{':\n",
    "            if previousOpen:\n",
    "                multiplier += 1\n",
    "            totalScore += multiplier\n",
    "            previousOpen = True\n",
    "            previousClosed = False\n",
    "            \n",
    "        elif char == '}':\n",
    "            if previousClosed:\n",
    "                multiplier += -1\n",
    "            previousOpen = False\n",
    "            previousClosed = True\n",
    "    \n",
    "    print(\"Score: \"totalScore)        "
   ]
  },
  {
   "cell_type": "code",
   "execution_count": 51,
   "metadata": {
    "collapsed": false
   },
   "outputs": [
    {
     "name": "stdout",
     "output_type": "stream",
     "text": [
      "chars removed: 4\n"
     ]
    },
    {
     "data": {
      "text/plain": [
       "9"
      ]
     },
     "execution_count": 51,
     "metadata": {},
     "output_type": "execute_result"
    }
   ],
   "source": [
    "score(clean(exclaim(sample2)))"
   ]
  },
  {
   "cell_type": "code",
   "execution_count": 38,
   "metadata": {
    "collapsed": true
   },
   "outputs": [],
   "source": [
    "#get data from text file\n",
    "with open('day9input.txt', 'r') as f:\n",
    "    Input = f.read()"
   ]
  },
  {
   "cell_type": "code",
   "execution_count": 40,
   "metadata": {
    "collapsed": false
   },
   "outputs": [
    {
     "data": {
      "text/plain": [
       "16021"
      ]
     },
     "execution_count": 40,
     "metadata": {},
     "output_type": "execute_result"
    }
   ],
   "source": [
    "score(clean(exclaim(str(Input))))"
   ]
  },
  {
   "cell_type": "code",
   "execution_count": null,
   "metadata": {
    "collapsed": true
   },
   "outputs": [],
   "source": []
  }
 ],
 "metadata": {
  "kernelspec": {
   "display_name": "Python 3",
   "language": "python",
   "name": "python3"
  },
  "language_info": {
   "codemirror_mode": {
    "name": "ipython",
    "version": 3
   },
   "file_extension": ".py",
   "mimetype": "text/x-python",
   "name": "python",
   "nbconvert_exporter": "python",
   "pygments_lexer": "ipython3",
   "version": "3.6.0"
  }
 },
 "nbformat": 4,
 "nbformat_minor": 2
}
