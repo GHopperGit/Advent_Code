{
 "cells": [
  {
   "cell_type": "code",
   "execution_count": 54,
   "metadata": {
    "collapsed": true
   },
   "outputs": [],
   "source": [
    "sample = [0, 3, 0, 1, -3]"
   ]
  },
  {
   "cell_type": "code",
   "execution_count": 55,
   "metadata": {
    "collapsed": false
   },
   "outputs": [],
   "source": [
    "def jump(offsets):\n",
    "    #to avoid writing over the original list, copy offsets as a new list\n",
    "    jumpList = list(offsets)\n",
    "    #Position keeps track of our location in the list\n",
    "    position = 0\n",
    "    #Jumps tracks how may times we iterate through the loop\n",
    "    jumps = 0\n",
    "    \n",
    "    #the while loop will end if our new position is outside of the list\n",
    "    while ((position > -1) and (position < (len(jumpList)))):\n",
    "        #print('p' + str(position)) #test\n",
    "        jumps = jumps + 1\n",
    "        \n",
    "        #save the value as a variable to use as our jump distance\n",
    "        n = jumpList[position]\n",
    "        #print('n' + str(n)) #test\n",
    "        \n",
    "        #update the value\n",
    "        jumpList[position] = n + 1\n",
    "        \n",
    "        #update the position\n",
    "        position = position + n\n",
    "    print(jumps)"
   ]
  },
  {
   "cell_type": "code",
   "execution_count": 56,
   "metadata": {
    "collapsed": false
   },
   "outputs": [
    {
     "name": "stdout",
     "output_type": "stream",
     "text": [
      "5\n"
     ]
    }
   ],
   "source": [
    "jump(sample)"
   ]
  },
  {
   "cell_type": "code",
   "execution_count": 63,
   "metadata": {
    "collapsed": false
   },
   "outputs": [],
   "source": [
    "#Turn input into list\n",
    "with open('day5input.txt', 'r') as f:\n",
    "    Input = f.read().splitlines()\n",
    "\n",
    "#Turn strings into integers\n",
    "Input = list(map(int, Input))"
   ]
  },
  {
   "cell_type": "code",
   "execution_count": 64,
   "metadata": {
    "collapsed": false
   },
   "outputs": [
    {
     "name": "stdout",
     "output_type": "stream",
     "text": [
      "372671\n"
     ]
    }
   ],
   "source": [
    "jump(Input)"
   ]
  },
  {
   "cell_type": "code",
   "execution_count": 72,
   "metadata": {
    "collapsed": true
   },
   "outputs": [],
   "source": [
    "#Part 2\n",
    "\n",
    "def jump2(offsets):\n",
    "    jumpList = list(offsets)\n",
    "    position = 0\n",
    "    jumps = 0\n",
    "    \n",
    "    while ((position > -1) and (position < (len(jumpList)))):\n",
    "        #print('p' + str(position)) #test\n",
    "        jumps = jumps + 1\n",
    "        \n",
    "        n = jumpList[position]\n",
    "        #print('n' + str(n)) #test\n",
    "        \n",
    "        #This is the section that changes in Part 2\n",
    "        if n > 2: \n",
    "            jumpList[position] = n - 1\n",
    "        else:\n",
    "            jumpList[position] = n + 1\n",
    "        \n",
    "        position = position + n\n",
    "    print(jumps)\n",
    "    #print(jumpList)"
   ]
  },
  {
   "cell_type": "code",
   "execution_count": 73,
   "metadata": {
    "collapsed": false
   },
   "outputs": [
    {
     "name": "stdout",
     "output_type": "stream",
     "text": [
      "10\n"
     ]
    }
   ],
   "source": [
    "jump2(sample)"
   ]
  },
  {
   "cell_type": "code",
   "execution_count": 74,
   "metadata": {
    "collapsed": false
   },
   "outputs": [
    {
     "name": "stdout",
     "output_type": "stream",
     "text": [
      "25608480\n"
     ]
    }
   ],
   "source": [
    "jump2(Input)"
   ]
  },
  {
   "cell_type": "code",
   "execution_count": null,
   "metadata": {
    "collapsed": true
   },
   "outputs": [],
   "source": []
  }
 ],
 "metadata": {
  "kernelspec": {
   "display_name": "Python 3",
   "language": "python",
   "name": "python3"
  },
  "language_info": {
   "codemirror_mode": {
    "name": "ipython",
    "version": 3
   },
   "file_extension": ".py",
   "mimetype": "text/x-python",
   "name": "python",
   "nbconvert_exporter": "python",
   "pygments_lexer": "ipython3",
   "version": "3.6.0"
  }
 },
 "nbformat": 4,
 "nbformat_minor": 2
}
