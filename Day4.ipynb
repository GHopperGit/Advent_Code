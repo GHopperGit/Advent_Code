{
 "cells": [
  {
   "cell_type": "code",
   "execution_count": 22,
   "metadata": {
    "collapsed": true
   },
   "outputs": [],
   "source": [
    "Sample = [['aa', 'bb', 'cc', 'dd', 'ee'], \n",
    "          ['aa', 'bb', 'cc', 'dd', 'aa', 'aa'], \n",
    "          ['aa', 'bb', 'cc', 'dd', 'aaa']]"
   ]
  },
  {
   "cell_type": "code",
   "execution_count": 25,
   "metadata": {
    "collapsed": true
   },
   "outputs": [],
   "source": [
    "def ValidCount(PhraseList):\n",
    "    ValidPhrases = len(PhraseList)\n",
    "    for passphrase in PhraseList:\n",
    "        valid = True\n",
    "        for index1 in range(len(passphrase)-1):\n",
    "            for index2 in range(index1 + 1, len(passphrase)):\n",
    "                if passphrase[index1]==passphrase[index2]:\n",
    "                    valid = False\n",
    "                    #print(passphrase[index1])\n",
    "        if not(valid):\n",
    "            ValidPhrases = ValidPhrases - 1\n",
    "    print(ValidPhrases)                    "
   ]
  },
  {
   "cell_type": "code",
   "execution_count": 26,
   "metadata": {
    "collapsed": false
   },
   "outputs": [
    {
     "name": "stdout",
     "output_type": "stream",
     "text": [
      "2\n"
     ]
    }
   ],
   "source": [
    "ValidCount(Sample)"
   ]
  },
  {
   "cell_type": "code",
   "execution_count": 17,
   "metadata": {
    "collapsed": true
   },
   "outputs": [],
   "source": [
    "with open('Day4input.txt', 'r') as f:\n",
    "    Input = [row.split() for row in f.read().splitlines()]"
   ]
  },
  {
   "cell_type": "code",
   "execution_count": 27,
   "metadata": {
    "collapsed": false
   },
   "outputs": [
    {
     "name": "stdout",
     "output_type": "stream",
     "text": [
      "386\n"
     ]
    }
   ],
   "source": [
    "ValidCount(Input)"
   ]
  },
  {
   "cell_type": "code",
   "execution_count": null,
   "metadata": {
    "collapsed": true
   },
   "outputs": [],
   "source": []
  }
 ],
 "metadata": {
  "kernelspec": {
   "display_name": "Python 3",
   "language": "python",
   "name": "python3"
  },
  "language_info": {
   "codemirror_mode": {
    "name": "ipython",
    "version": 3
   },
   "file_extension": ".py",
   "mimetype": "text/x-python",
   "name": "python",
   "nbconvert_exporter": "python",
   "pygments_lexer": "ipython3",
   "version": "3.6.0"
  }
 },
 "nbformat": 4,
 "nbformat_minor": 2
}
