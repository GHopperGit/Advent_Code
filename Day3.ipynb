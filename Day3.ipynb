{
 "cells": [
  {
   "cell_type": "code",
   "execution_count": 8,
   "metadata": {
    "collapsed": false
   },
   "outputs": [],
   "source": [
    "from math import sqrt\n",
    "\n",
    "def DistanceTo1(x):\n",
    "    #first, find the integer before the squareroot\n",
    "    s = int(sqrt(x))\n",
    "    \n",
    "    #Find the NEXT odd integer\n",
    "    #if it is even, go up one number\n",
    "    if s%2 == 0:\n",
    "        n = s+1\n",
    "    #if it is odd, go up two numbers\n",
    "    else: \n",
    "        n = s+2\n",
    "    \n",
    "    #n squared will be the bottom right corner of the border containing x\n",
    "    nsquare = n*n\n",
    "    \n",
    "    #each corner is n-1 apart\n",
    "    sidedist= n-1\n",
    "    \n",
    "    #difference between the bottom right corner and x\n",
    "    xtosquare = nsquare - x\n",
    "    \n",
    "    #distance from the nearest corner to x\n",
    "    xtocorner = min((xtosquare % sidedist), (sidedist - (xtosquare % sidedist)))\n",
    "    \n",
    "    #The distance from each corner to the center is n-1\n",
    "    #Because it's in the same border, the further x is from a corner, the closer it is to 1       \n",
    "    result = sidedist - xtocorner\n",
    "                    \n",
    "    #Special Case if x is the square of an odd number\n",
    "    if (n-2)*(n-2) == x:\n",
    "        result = s-1\n",
    "    \n",
    "    print(result)\n",
    "\n",
    "        \n",
    "    "
   ]
  },
  {
   "cell_type": "code",
   "execution_count": 14,
   "metadata": {
    "collapsed": false
   },
   "outputs": [
    {
     "name": "stdout",
     "output_type": "stream",
     "text": [
      "480\n"
     ]
    }
   ],
   "source": [
    "DistanceTo1(347991)"
   ]
  },
  {
   "cell_type": "code",
   "execution_count": null,
   "metadata": {
    "collapsed": true
   },
   "outputs": [],
   "source": []
  }
 ],
 "metadata": {
  "kernelspec": {
   "display_name": "Python 3",
   "language": "python",
   "name": "python3"
  },
  "language_info": {
   "codemirror_mode": {
    "name": "ipython",
    "version": 3
   },
   "file_extension": ".py",
   "mimetype": "text/x-python",
   "name": "python",
   "nbconvert_exporter": "python",
   "pygments_lexer": "ipython3",
   "version": "3.6.0"
  }
 },
 "nbformat": 4,
 "nbformat_minor": 2
}
